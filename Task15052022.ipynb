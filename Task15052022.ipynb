{
 "cells": [
  {
   "cell_type": "code",
   "execution_count": 1,
   "id": "7b82175d",
   "metadata": {},
   "outputs": [
    {
     "name": "stdout",
     "output_type": "stream",
     "text": [
      "h   r tnrrmglsnimeNGyosi dtfco\n"
     ]
    }
   ],
   "source": [
    "# 1. Try to extract data from index one to index 300 with a jump of 3 \n",
    "s = \"this is My First Python programming class and i am learNING python string and its function\"\n",
    "print(s[1:300:3])"
   ]
  },
  {
   "cell_type": "code",
   "execution_count": 2,
   "id": "5a8d1574",
   "metadata": {},
   "outputs": [
    {
     "name": "stdout",
     "output_type": "stream",
     "text": [
      "noitcnuf sti dna gnirts nohtyp GNINrael ma i dna ssalc gnimmargorp nohtyP tsriF yM si siht\n"
     ]
    }
   ],
   "source": [
    "# 2. Try to reverse a string without using reverse function \n",
    "print(s[::-1])"
   ]
  },
  {
   "cell_type": "code",
   "execution_count": 9,
   "id": "662adf31",
   "metadata": {},
   "outputs": [
    {
     "name": "stdout",
     "output_type": "stream",
     "text": [
      "['THIS', 'IS', 'MY', 'FIRST', 'PYTHON', 'PROGRAMMING', 'CLASS', 'AND', 'I', 'AM', 'LEARNING', 'PYTHON', 'STRING', 'AND', 'ITS', 'FUNCTION']\n"
     ]
    }
   ],
   "source": [
    "# 3.Try to split a string after conversion of entire string in uppercase\n",
    "print(s.upper().split())\n",
    "\n"
   ]
  },
  {
   "cell_type": "code",
   "execution_count": 10,
   "id": "30a7a6cf",
   "metadata": {},
   "outputs": [
    {
     "name": "stdout",
     "output_type": "stream",
     "text": [
      "this is my first python programming class and i am learning python string and its function\n"
     ]
    }
   ],
   "source": [
    "# 4.try to convert the whole string into lower case \n",
    "print(s.lower())"
   ]
  },
  {
   "cell_type": "code",
   "execution_count": 12,
   "id": "aecb075d",
   "metadata": {},
   "outputs": [
    {
     "name": "stdout",
     "output_type": "stream",
     "text": [
      "This is my first python programming class and i am learning python string and its function\n"
     ]
    }
   ],
   "source": [
    "# 5.Try to capitalize the whole string \n",
    "print(s.capitalize())"
   ]
  },
  {
   "cell_type": "code",
   "execution_count": null,
   "id": "3d6e7ff0",
   "metadata": {},
   "outputs": [],
   "source": [
    "# 6. Write a diference between isalnum() and isalpha()\n",
    "# Ans: isalnum() method returns true if all characters of a string are either alphabets or Numbers or both, otherwise method returns false.\n",
    "# isalpha() is method returns true if all characters of String are alphabets other wise its retyrn False\n",
    "\n",
    "\n"
   ]
  },
  {
   "cell_type": "code",
   "execution_count": 17,
   "id": "f8f5b44d",
   "metadata": {},
   "outputs": [
    {
     "name": "stdout",
     "output_type": "stream",
     "text": [
      "xyz     12345   ab\n"
     ]
    }
   ],
   "source": [
    "#7.The expandtabs() returns a string where all '\\t' characters are replaced with whitespace characters until the next multiple of tabsize parameter.\n",
    "str = 'xyz\\t12345\\tab'\n",
    "result=str.expandtabs()\n",
    "print(result)\n",
    "    \n",
    "\n"
   ]
  },
  {
   "cell_type": "code",
   "execution_count": 22,
   "id": "8255316c",
   "metadata": {},
   "outputs": [
    {
     "name": "stdout",
     "output_type": "stream",
     "text": [
      "banana\n",
      "     banana     \n",
      "     banana ,Apple\n"
     ]
    }
   ],
   "source": [
    "# 8.Give an example of strip , lstrip and rstrip \n",
    "#The lstrip(s) (left strip) function removes leading whitespace (on the left) in the string.\n",
    "# The rstrip function removes white spaces on the right side of the string\n",
    "#strip() function removes the spaces at the begininng and at the end of  the string\n",
    "txt = \"     banana     \"\n",
    "x = txt.strip()\n",
    "print(x)\n",
    "\n",
    "txt1=\"     banana     \"\n",
    "x=txt1.lstrip()\n",
    "print(txt1)\n",
    "tx2 = \"     banana ,Apple    \"\n",
    "y=tx2.rstrip()\n",
    "print(y)"
   ]
  },
  {
   "cell_type": "code",
   "execution_count": 28,
   "id": "6377bad1",
   "metadata": {},
   "outputs": [
    {
     "name": "stdout",
     "output_type": "stream",
     "text": [
      "sbdhanshb\n"
     ]
    }
   ],
   "source": [
    "# 9. Replace a string charecter by another charector by taking your own example \n",
    "str=\"sudhanshu\"\n",
    "print(str.replace(\"u\",\"b\"))"
   ]
  },
  {
   "cell_type": "code",
   "execution_count": 30,
   "id": "e2f98fbe",
   "metadata": {},
   "outputs": [
    {
     "name": "stdout",
     "output_type": "stream",
     "text": [
      "Centered string: *****Disneyland*****\n"
     ]
    }
   ],
   "source": [
    "# 10.Try  to give a defination of string center function with and exmple \n",
    "#center() method is an inbuilt function that is used to align a string to the center by filling paddings to the left and right of the string\n",
    "txt = 'Disneyland'\n",
    "new_str = txt.center(20,'*')\n",
    "print('Centered string:', new_str)"
   ]
  },
  {
   "cell_type": "code",
   "execution_count": null,
   "id": "b70e6fc2",
   "metadata": {},
   "outputs": [],
   "source": [
    "# 11.Write your own definition of compiler and interpretor without copy paste form internet in your own language\n",
    "# Interpreter:it converts source code into intermediate language which is again translated into the machine language that is executed.\n",
    "# Compiler:A compiler is a special program that translates a programming language's source code into machine code, bytecode \n"
   ]
  },
  {
   "cell_type": "code",
   "execution_count": null,
   "id": "f43a76e3",
   "metadata": {},
   "outputs": [],
   "source": [
    "#12.Python is a interpreted of compiled language give a clear ans with your understanding\n",
    "#Ans:Python is called an interpreted language because it goes through an interpreter, which turns code you write into the language understood by your computer’s processor. Later on when you work on a project on your own computer, you will download and use the Python interpreter to be able to write Python code and execute it on your own!"
   ]
  },
  {
   "cell_type": "code",
   "execution_count": null,
   "id": "b65f4fd2",
   "metadata": {},
   "outputs": [],
   "source": [
    "#13. Try to write a usecase of python with your understanding \n",
    "#Ans:1.Used for WebDevelopment 2.Game Development 3.used in Data analytics 4.used AI and MAchine Learning\n",
    "# 5. Used in Data Visuvalization"
   ]
  }
 ],
 "metadata": {
  "kernelspec": {
   "display_name": "Python 3 (ipykernel)",
   "language": "python",
   "name": "python3"
  },
  "language_info": {
   "codemirror_mode": {
    "name": "ipython",
    "version": 3
   },
   "file_extension": ".py",
   "mimetype": "text/x-python",
   "name": "python",
   "nbconvert_exporter": "python",
   "pygments_lexer": "ipython3",
   "version": "3.9.7"
  }
 },
 "nbformat": 4,
 "nbformat_minor": 5
}
